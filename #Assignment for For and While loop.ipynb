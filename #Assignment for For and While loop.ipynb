{
 "cells": [
  {
   "cell_type": "markdown",
   "id": "99cf9a5b-1145-4eda-b3b7-969b1b424853",
   "metadata": {},
   "source": [
    "Q.1.Explain with an example each when to use a For loop and While loop."
   ]
  },
  {
   "cell_type": "markdown",
   "id": "c18e76d1-a2c1-4e0e-9774-2f191796cd39",
   "metadata": {},
   "source": [
    "Ans.For loop is used for iterating over a sequence of elements ,while While loop is used for repeatedly executing a block of code as long as certain condition is true .And while loop always checks the condition but \n",
    "For loop dosen't check the condition .eg:-"
   ]
  },
  {
   "cell_type": "code",
   "execution_count": 2,
   "id": "2cd8a268-429b-402f-a96f-452906aa1efd",
   "metadata": {},
   "outputs": [],
   "source": [
    "l=[1,2,3,4,5,]"
   ]
  },
  {
   "cell_type": "code",
   "execution_count": 3,
   "id": "e0dd0da7-7c36-4b4d-ae23-0ef744d6c324",
   "metadata": {},
   "outputs": [
    {
     "name": "stdout",
     "output_type": "stream",
     "text": [
      "1\n",
      "2\n",
      "3\n",
      "4\n",
      "5\n"
     ]
    }
   ],
   "source": [
    "for i in l:\n",
    "    print (i)"
   ]
  },
  {
   "cell_type": "code",
   "execution_count": 4,
   "id": "d366f5e0-2b0e-4970-b2f6-aa7c13167aac",
   "metadata": {},
   "outputs": [
    {
     "name": "stdout",
     "output_type": "stream",
     "text": [
      "2\n",
      "3\n",
      "4\n",
      "5\n",
      "6\n"
     ]
    }
   ],
   "source": [
    "for i in l:\n",
    "    print(i+1)"
   ]
  },
  {
   "cell_type": "code",
   "execution_count": null,
   "id": "4da0326e-f598-4a93-9b35-898999516736",
   "metadata": {},
   "outputs": [],
   "source": [
    "# whlie loop"
   ]
  },
  {
   "cell_type": "code",
   "execution_count": 2,
   "id": "6249e477-030b-4358-a21d-974f07a26f62",
   "metadata": {},
   "outputs": [
    {
     "data": {
      "text/plain": [
       "31"
      ]
     },
     "execution_count": 2,
     "metadata": {},
     "output_type": "execute_result"
    }
   ],
   "source": [
    "n=10\n",
    "counter=2\n",
    "starting_point=1\n",
    "while counter <=n:\n",
    "    starting_point =starting_point+counter\n",
    "    counter =counter+2\n",
    "starting_point"
   ]
  },
  {
   "cell_type": "markdown",
   "id": "52ed70d7-0b27-487f-a840-d7c23816069b",
   "metadata": {},
   "source": [
    "Q.2.Write a python program to print the sum and product of the first 10 natural numbers using for and while loop"
   ]
  },
  {
   "cell_type": "code",
   "execution_count": 1,
   "id": "28c61660-6ea0-41db-8821-3e01343e7721",
   "metadata": {},
   "outputs": [],
   "source": [
    "l=[1,2,3,4,5,6,7,8,9,10]"
   ]
  },
  {
   "cell_type": "code",
   "execution_count": 4,
   "id": "1157b025-201e-483e-9d25-0f629549485d",
   "metadata": {},
   "outputs": [
    {
     "name": "stdin",
     "output_type": "stream",
     "text": [
      "enter natgural number 10\n"
     ]
    },
    {
     "data": {
      "text/plain": [
       "55"
      ]
     },
     "execution_count": 4,
     "metadata": {},
     "output_type": "execute_result"
    }
   ],
   "source": [
    "n=int (input(\"enter natgural number\"))\n",
    "n <=10\n",
    "result=0\n",
    "for i in l:\n",
    "    result=result+i\n",
    "result\n",
    "\n",
    "    \n"
   ]
  },
  {
   "cell_type": "code",
   "execution_count": null,
   "id": "a96adc21-a94d-465d-9ccb-a5324d87bc71",
   "metadata": {},
   "outputs": [],
   "source": [
    "# for while"
   ]
  },
  {
   "cell_type": "code",
   "execution_count": 20,
   "id": "49b6b7fe-c0cc-4055-ab98-0e79ee315f58",
   "metadata": {},
   "outputs": [
    {
     "name": "stdin",
     "output_type": "stream",
     "text": [
      "enter natural number 10\n"
     ]
    },
    {
     "data": {
      "text/plain": [
       "3628800"
      ]
     },
     "execution_count": 20,
     "metadata": {},
     "output_type": "execute_result"
    }
   ],
   "source": [
    "n=int (input(\"enter natural number\"))\n",
    "starting_point=1\n",
    "counter=1\n",
    "while counter <=n:\n",
    "    starting_point=starting_point*counter\n",
    "    counter =counter+1\n",
    "starting_point\n"
   ]
  },
  {
   "cell_type": "markdown",
   "id": "3897c3e0-3e74-4d61-ace8-ef5b387456c8",
   "metadata": {},
   "source": [
    " Q.3.Create a python program to compute the electricity bill for a household.he per-unit charges in rupees are as follows: For the first 100 units, the user will be charged Rs. 4.5 per \n",
    "unit, for the next 100 units, the user will be charged Rs. 6 per unit, and for the next 100 units, the user will be charged Rs. 10 per unit, After 300 units and above the user will be charged Rs. 20 per unit.You are required to take the units of electricity consumed in a month from the user as input.your program must pass this test case .when the unit of electricity consumed by the user in month is 310 unit the total electricity bill should be 2250."
   ]
  },
  {
   "cell_type": "code",
   "execution_count": 7,
   "id": "2865d1a8-aabb-4fe4-a972-68a48d989855",
   "metadata": {},
   "outputs": [
    {
     "name": "stdin",
     "output_type": "stream",
     "text": [
      "enter thr unit of electricty 200\n"
     ]
    },
    {
     "ename": "NameError",
     "evalue": "name 'units' is not defined",
     "output_type": "error",
     "traceback": [
      "\u001b[0;31m---------------------------------------------------------------------------\u001b[0m",
      "\u001b[0;31mNameError\u001b[0m                                 Traceback (most recent call last)",
      "Cell \u001b[0;32mIn[7], line 2\u001b[0m\n\u001b[1;32m      1\u001b[0m unit\u001b[38;5;241m=\u001b[39m\u001b[38;5;28mint\u001b[39m(\u001b[38;5;28minput\u001b[39m(\u001b[38;5;124m\"\u001b[39m\u001b[38;5;124menter thr unit of electricty\u001b[39m\u001b[38;5;124m\"\u001b[39m))\n\u001b[0;32m----> 2\u001b[0m \u001b[38;5;28;01mif\u001b[39;00m \u001b[43munits\u001b[49m \u001b[38;5;241m<\u001b[39m\u001b[38;5;241m=\u001b[39m\u001b[38;5;241m100\u001b[39m:\n\u001b[1;32m      3\u001b[0m     \u001b[38;5;28mprint\u001b[39m(\u001b[38;5;124m\"\u001b[39m\u001b[38;5;124myou will be charged Rs.4.5 per unit\u001b[39m\u001b[38;5;124m\"\u001b[39m)\n\u001b[1;32m      4\u001b[0m \u001b[38;5;28;01melif\u001b[39;00m units \u001b[38;5;241m<\u001b[39m\u001b[38;5;241m=\u001b[39m\u001b[38;5;241m200\u001b[39m:\n",
      "\u001b[0;31mNameError\u001b[0m: name 'units' is not defined"
     ]
    }
   ],
   "source": [
    "unit=int(input(\"enter thr unit of electricty\"))\n",
    "if units <=100:\n",
    "    print(\"you will be charged Rs.4.5 per unit\")\n",
    "elif units <=200:\n",
    "    print(\"you will be charged Rs.6 per  unit\")\n",
    "elif units <=300:\n",
    "    print(\"you will be charged Rs.10 per unit\")\n",
    "elif units >300:\n",
    "    print(\"you will be chrged Rs.20 per unit\")"
   ]
  },
  {
   "cell_type": "code",
   "execution_count": null,
   "id": "8bd39d11-9593-4c34-a980-b84c520af21d",
   "metadata": {},
   "outputs": [],
   "source": []
  },
  {
   "cell_type": "markdown",
   "id": "dc009287-4b33-47f2-a2e7-302f890c6eba",
   "metadata": {},
   "source": [
    "Q4. Create a list of numbers from 1 to 100. Use for loop and while loop to calculate the cube of each \n",
    "number and if the cube of that number is divisible by 4 or 5 then append that number in a list and print that list"
   ]
  },
  {
   "cell_type": "code",
   "execution_count": 10,
   "id": "cf0ac832-320d-456c-bd22-cb9b24895fc0",
   "metadata": {},
   "outputs": [],
   "source": [
    "# forloop"
   ]
  },
  {
   "cell_type": "code",
   "execution_count": null,
   "id": "1c6ead41-dff2-4a13-943a-0adee6a63c68",
   "metadata": {},
   "outputs": [],
   "source": [
    "l=[]"
   ]
  },
  {
   "cell_type": "code",
   "execution_count": 2,
   "id": "820ee165-b108-4a2c-9f04-23c41018c139",
   "metadata": {},
   "outputs": [
    {
     "name": "stdout",
     "output_type": "stream",
     "text": [
      "[1000000]\n",
      "[1000000]\n"
     ]
    }
   ],
   "source": [
    "l= list(range(1,101))\n",
    "l1_num=[]\n",
    "l2_num=[]\n",
    "for i in l :\n",
    "    i=i**3\n",
    "if i % 4 ==0:\n",
    "    l1_num.append(i)\n",
    "if i % 5 ==0:\n",
    "    l2_num.append(i)\n",
    "\n",
    "print(l1_num)\n",
    "print(l2_num)"
   ]
  },
  {
   "cell_type": "code",
   "execution_count": 4,
   "id": "10edcd2f-1a88-424e-a67e-1ebdd173b6c9",
   "metadata": {},
   "outputs": [],
   "source": [
    "# while loop"
   ]
  },
  {
   "cell_type": "code",
   "execution_count": 9,
   "id": "68ac6650-6bbf-45b5-9dfe-6d61dd261b43",
   "metadata": {},
   "outputs": [
    {
     "data": {
      "text/plain": [
       "[2,\n",
       " 4,\n",
       " 5,\n",
       " 6,\n",
       " 8,\n",
       " 10,\n",
       " 12,\n",
       " 14,\n",
       " 15,\n",
       " 16,\n",
       " 18,\n",
       " 20,\n",
       " 22,\n",
       " 24,\n",
       " 25,\n",
       " 26,\n",
       " 28,\n",
       " 30,\n",
       " 32,\n",
       " 34,\n",
       " 35,\n",
       " 36,\n",
       " 38,\n",
       " 40,\n",
       " 42,\n",
       " 44,\n",
       " 45,\n",
       " 46,\n",
       " 48,\n",
       " 50,\n",
       " 52,\n",
       " 54,\n",
       " 55,\n",
       " 56,\n",
       " 58,\n",
       " 60,\n",
       " 62,\n",
       " 64,\n",
       " 65,\n",
       " 66,\n",
       " 68,\n",
       " 70,\n",
       " 72,\n",
       " 74,\n",
       " 75,\n",
       " 76,\n",
       " 78,\n",
       " 80,\n",
       " 82,\n",
       " 84,\n",
       " 85,\n",
       " 86,\n",
       " 88,\n",
       " 90,\n",
       " 92,\n",
       " 94,\n",
       " 95,\n",
       " 96,\n",
       " 98,\n",
       " 100]"
      ]
     },
     "execution_count": 9,
     "metadata": {},
     "output_type": "execute_result"
    }
   ],
   "source": [
    "num_list=[]\n",
    "i=1\n",
    "while i <=100:\n",
    "    num=i**3\n",
    "    if num %4==0 or num %5==0:\n",
    "        num_list.append(i)\n",
    "    i+=1\n",
    "\n",
    "num_list"
   ]
  },
  {
   "cell_type": "code",
   "execution_count": null,
   "id": "d94027be-0e50-471b-b633-6f19afbc3ea7",
   "metadata": {},
   "outputs": [],
   "source": []
  },
  {
   "cell_type": "markdown",
   "id": "a4534d69-a193-48e0-a4a6-564339677bcc",
   "metadata": {},
   "source": [
    "Q.5. Write a program to filter count vowels in the below-given string.\n",
    "\n",
    "string = \"I want to become a data scientist\""
   ]
  },
  {
   "cell_type": "code",
   "execution_count": 17,
   "id": "4b56c2ba-dbe8-44ed-bd9e-c84dde4aab18",
   "metadata": {},
   "outputs": [
    {
     "name": "stdout",
     "output_type": "stream",
     "text": [
      "a\n",
      "o\n",
      "e\n",
      "o\n",
      "e\n",
      "a\n",
      "a\n",
      "a\n",
      "i\n",
      "e\n",
      "i\n"
     ]
    }
   ],
   "source": [
    "str=\"I want to become a data scientist\"\n",
    "vowels=\"a,e,i,o,u\"\n",
    "count=0\n",
    "for i in str:\n",
    "    if i in vowels:\n",
    "        print(i)"
   ]
  },
  {
   "cell_type": "code",
   "execution_count": 19,
   "id": "843333c0-110d-416d-aae5-309a37e8e4b8",
   "metadata": {},
   "outputs": [
    {
     "name": "stdout",
     "output_type": "stream",
     "text": [
      "The number of vowels in the str is: 11\n"
     ]
    }
   ],
   "source": [
    "str=\"I want to become a data scientist\"\n",
    "vowels=\"a,e,i,o,u\"\n",
    "count=0\n",
    "for i in str:\n",
    "    if i in vowels:\n",
    "        count+=1\n",
    "print(\"The number of vowels in the str is:\",count)"
   ]
  },
  {
   "cell_type": "code",
   "execution_count": null,
   "id": "d06f126d-99af-4aa5-b007-d90d7f3dc2b7",
   "metadata": {},
   "outputs": [],
   "source": []
  }
 ],
 "metadata": {
  "kernelspec": {
   "display_name": "Python 3 (ipykernel)",
   "language": "python",
   "name": "python3"
  },
  "language_info": {
   "codemirror_mode": {
    "name": "ipython",
    "version": 3
   },
   "file_extension": ".py",
   "mimetype": "text/x-python",
   "name": "python",
   "nbconvert_exporter": "python",
   "pygments_lexer": "ipython3",
   "version": "3.10.8"
  }
 },
 "nbformat": 4,
 "nbformat_minor": 5
}
